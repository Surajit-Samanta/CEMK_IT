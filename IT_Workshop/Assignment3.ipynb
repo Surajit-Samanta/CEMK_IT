{
 "cells": [
  {
   "cell_type": "markdown",
   "id": "59d0dab7",
   "metadata": {},
   "source": [
    "#  Assignment-03\n",
    "## (Assignment on Loops)"
   ]
  },
  {
   "cell_type": "markdown",
   "id": "15e55b97",
   "metadata": {},
   "source": [
    "###  1. Write a Python program to get the Fibonacci series between 0 to a number given by the user.\n",
    " ### Note : The Fibonacci Sequence is the series of numbers : 0, 1, 1, 2, 3, 5, 8, 13, 21, ....\n",
    " ### Every next number is found by adding up the two numbers before it."
   ]
  },
  {
   "cell_type": "code",
   "execution_count": 3,
   "id": "0b5e4a07",
   "metadata": {},
   "outputs": [
    {
     "name": "stdout",
     "output_type": "stream",
     "text": [
      "Enter a number: 123665478989\n",
      "Fibonacci series up to 123665478989 :\n",
      "0 1 1 2 3 5 8 13 21 34 55 89 144 233 377 610 987 1597 2584 4181 6765 10946 17711 28657 46368 75025 121393 196418 317811 514229 832040 1346269 2178309 3524578 5702887 9227465 14930352 24157817 39088169 63245986 102334155 165580141 267914296 433494437 701408733 1134903170 1836311903 2971215073 4807526976 7778742049 12586269025 20365011074 32951280099 53316291173 86267571272 "
     ]
    }
   ],
   "source": [
    "n = int(input(\"Enter a number: \"))\n",
    "a, b = 0, 1\n",
    "print(\"Fibonacci series up to\", n, \":\")\n",
    "while a <= n:\n",
    "    print(a, end=\" \")\n",
    "    a, b = b, a + b"
   ]
  },
  {
   "cell_type": "markdown",
   "id": "c3f6e425",
   "metadata": {},
   "source": [
    "###  2. Write a Python program to find the sum of odd numbers, even numbers within 1 to n using only one loop. Use break, continue statement if required. Compute the absolute difference between them"
   ]
  },
  {
   "cell_type": "code",
   "execution_count": null,
   "id": "d72ef66c",
   "metadata": {},
   "outputs": [],
   "source": [
    "n = int(input(\"Enter n: \"))\n",
    "sum_even = 0\n",
    "sum_odd = 0\n",
    "\n",
    "for i in range(1, n + 1):\n",
    "    if i % 2 == 0:\n",
    "        sum_even += i\n",
    "    else:\n",
    "        sum_odd += i\n",
    "\n",
    "print(\"Sum of even numbers:\", sum_even)\n",
    "print(\"Sum of odd numbers:\", sum_odd)\n",
    "print(\"Absolute difference:\", abs(sum_even - sum_odd))\n"
   ]
  },
  {
   "cell_type": "markdown",
   "id": "08da0763",
   "metadata": {},
   "source": [
    "###  3. Write a program using loops to enter the numbers till the user wants and at the end the program should display the largest and smallest numbers entered"
   ]
  },
  {
   "cell_type": "code",
   "execution_count": null,
   "id": "103d7416",
   "metadata": {},
   "outputs": [],
   "source": [
    "largest = None\n",
    "smallest = None\n",
    "\n",
    "while True:\n",
    "    num = input(\"Enter a number (or 'stop' to end): \")\n",
    "    if num.lower() == 'stop':\n",
    "        break\n",
    "    num = float(num)\n",
    "    if largest is None or num > largest:\n",
    "        largest = num\n",
    "    if smallest is None or num < smallest:\n",
    "        smallest = num\n",
    "\n",
    "print(\"Largest number:\", largest)\n",
    "print(\"Smallest number:\", smallest)\n"
   ]
  },
  {
   "cell_type": "markdown",
   "id": "7dffd4a4",
   "metadata": {},
   "source": [
    "###  4. Write a Python program to compute the factorial of a given number using loops"
   ]
  },
  {
   "cell_type": "code",
   "execution_count": null,
   "id": "053303ea",
   "metadata": {},
   "outputs": [],
   "source": [
    "n = int(input(\"Enter a number: \"))\n",
    "fact = 1\n",
    "\n",
    "for i in range(1, n + 1):\n",
    "    fact *= i\n",
    "\n",
    "print(f\"Factorial of {n} is {fact}\")\n"
   ]
  },
  {
   "cell_type": "markdown",
   "id": "032884fb",
   "metadata": {},
   "source": [
    "###  5. Write a program that generates a random integer within 1 to 500 and asks the user to guess what the number is. If the user's guess is higher than the number,  the program should display \"Too high, try again.\" If the user's guess is lower than the number, the program should display \"Too low, try again.\" The program should use a loop that repeats until the user correctly guesses the random number.\n",
    " [ To generate a random number within a range use\n",
    " import random\n",
    " n=random.randint(lower_limit_value,upper_limit_value) ]"
   ]
  },
  {
   "cell_type": "code",
   "execution_count": null,
   "id": "aa7c60db",
   "metadata": {},
   "outputs": [],
   "source": [
    "import random\n",
    "\n",
    "number = random.randint(1, 500)\n",
    "while True:\n",
    "    guess = int(input(\"Guess the number (1–500): \"))\n",
    "    if guess > number:\n",
    "        print(\"Too high, try again.\")\n",
    "    elif guess < number:\n",
    "        print(\"Too low, try again.\")\n",
    "    else:\n",
    "        print(\"Congratulations! You guessed it right.\")\n",
    "        break\n"
   ]
  },
  {
   "cell_type": "markdown",
   "id": "846b01a4",
   "metadata": {},
   "source": [
    "### 6. Write a Python program to find the sum of the series 2 +22 + 222 + 2222 + ... upto n terms"
   ]
  },
  {
   "cell_type": "code",
   "execution_count": null,
   "id": "ca626b04",
   "metadata": {},
   "outputs": [],
   "source": [
    "n = int(input(\"Enter number of terms: \"))\n",
    "term = 2\n",
    "total = 0\n",
    "\n",
    "for i in range(n):\n",
    "    total += term\n",
    "    term = term * 10 + 2  # forms next number like 22, 222, etc.\n",
    "\n",
    "print(\"Sum of the series =\", total)\n"
   ]
  },
  {
   "cell_type": "markdown",
   "id": "ebae9fb6",
   "metadata": {},
   "source": [
    "###  7. Write Python program to print the following patterns upto n line\n",
    "\n",
    " 1\n",
    " 1 2\n",
    " 1 2 3\n",
    " 1 2 3 4\n",
    " 1 2 3 4 5\n",
    " *\n",
    " * *\n",
    " * * *\n",
    " * * * *\n",
    " * * * * *\n",
    " * * * *\n",
    " * * *\n",
    " * *\n",
    " *\n",
    " 1\n",
    " 1 2\n",
    " 1 2 3\n",
    " 1 2 3 4\n",
    " 1 2 3 4 5\n",
    " 1 2 3 4\n",
    " 1 2 3\n",
    " 1 2\n",
    " 1\n",
    " *\n",
    " * * *\n",
    " * * * * *\n",
    " * * * * * * *\n",
    " * * * * * * * * *\n",
    " 1\n",
    " 2 3 2\n",
    " 3 4 5 4 3\n",
    " 4 5 6 7 6 5 4\n",
    " 5 6 7 8 9 8 7 6 5"
   ]
  },
  {
   "cell_type": "code",
   "execution_count": null,
   "id": "8994c1f5",
   "metadata": {},
   "outputs": [],
   "source": [
    "n = int(input(\"Enter number of lines: \"))\n",
    "for i in range(1, n + 1):\n",
    "    for j in range(1, i + 1):\n",
    "        print(j, end=\" \")\n",
    "    print()\n"
   ]
  },
  {
   "cell_type": "code",
   "execution_count": null,
   "id": "71b8259c",
   "metadata": {},
   "outputs": [],
   "source": [
    "n = int(input(\"Enter number of lines: \"))\n",
    "for i in range(1, n + 1):\n",
    "    print(\"* \" * i)\n",
    "for i in range(n - 1, 0, -1):\n",
    "    print(\"* \" * i)\n"
   ]
  },
  {
   "cell_type": "code",
   "execution_count": null,
   "id": "1ad71dae",
   "metadata": {},
   "outputs": [],
   "source": [
    "n = int(input(\"Enter number of lines: \"))\n",
    "for i in range(1, n + 1):\n",
    "    for j in range(1, i + 1):\n",
    "        print(j, end=\" \")\n",
    "    print()\n",
    "for i in range(n - 1, 0, -1):\n",
    "    for j in range(1, i + 1):\n",
    "        print(j, end=\" \")\n",
    "    print()\n"
   ]
  },
  {
   "cell_type": "code",
   "execution_count": null,
   "id": "aa1b1b85",
   "metadata": {},
   "outputs": [],
   "source": []
  },
  {
   "cell_type": "markdown",
   "id": "174e6027",
   "metadata": {},
   "source": [
    "###  8. Write a Python program to display all the prime numbers within a range given by user using loops"
   ]
  },
  {
   "cell_type": "code",
   "execution_count": null,
   "id": "173ff065",
   "metadata": {},
   "outputs": [],
   "source": [
    "lower = int(input(\"Enter lower range: \"))\n",
    "upper = int(input(\"Enter upper range: \"))\n",
    "\n",
    "print(f\"Prime numbers between {lower} and {upper}:\")\n",
    "for num in range(lower, upper + 1):\n",
    "    if num > 1:\n",
    "        for i in range(2, int(num ** 0.5) + 1):\n",
    "            if num % i == 0:\n",
    "                break\n",
    "        else:\n",
    "            print(num, end=\" \")\n"
   ]
  },
  {
   "cell_type": "markdown",
   "id": "8f3973bf",
   "metadata": {},
   "source": [
    "###  9. Write a python program to reverse a given integer number using loops"
   ]
  },
  {
   "cell_type": "code",
   "execution_count": null,
   "id": "e1cce2c9",
   "metadata": {},
   "outputs": [],
   "source": [
    "num = int(input(\"Enter an integer: \"))\n",
    "rev = 0\n",
    "while num != 0:\n",
    "    digit = num % 10\n",
    "    rev = rev * 10 + digit\n",
    "    num //= 10\n",
    "\n",
    "print(\"Reversed number:\", rev)\n"
   ]
  },
  {
   "cell_type": "markdown",
   "id": "fdec0e16",
   "metadata": {},
   "source": [
    "### 10.Write a Python program to compute the cosine of x. The user should supply x and a positive integer n. We compute the cosine of x using the series and the computation should use all terms in the series up through the term involving xn"
   ]
  },
  {
   "cell_type": "code",
   "execution_count": null,
   "id": "04f56003",
   "metadata": {},
   "outputs": [],
   "source": [
    "import math\n",
    "\n",
    "x = float(input(\"Enter x (in radians): \"))\n",
    "n = int(input(\"Enter number of terms: \"))\n",
    "\n",
    "cosx = 0\n",
    "for i in range(n):\n",
    "    cosx += ((-1) ** i) * (x ** (2 * i)) / math.factorial(2 * i)\n",
    "\n",
    "print(\"cos(x) =\", cosx)\n"
   ]
  },
  {
   "cell_type": "markdown",
   "id": "14191257",
   "metadata": {},
   "source": [
    "### 11. Write a program to compute sin(x) for given x. The user should supply x and a positive integer n. We compute the sine of x using the series and the computation should use all terms in the series up through the term involving x"
   ]
  },
  {
   "cell_type": "code",
   "execution_count": null,
   "id": "b86315ec",
   "metadata": {},
   "outputs": [],
   "source": [
    "import math\n",
    "\n",
    "x = float(input(\"Enter x (in radians): \"))\n",
    "n = int(input(\"Enter number of terms: \"))\n",
    "\n",
    "sinx = 0\n",
    "for i in range(n):\n",
    "    sinx += ((-1) ** i) * (x ** (2 * i + 1)) / math.factorial(2 * i + 1)\n",
    "\n",
    "print(\"sin(x) =\", sinx)\n"
   ]
  }
 ],
 "metadata": {
  "kernelspec": {
   "display_name": "Python 3 (ipykernel)",
   "language": "python",
   "name": "python3"
  },
  "language_info": {
   "codemirror_mode": {
    "name": "ipython",
    "version": 3
   },
   "file_extension": ".py",
   "mimetype": "text/x-python",
   "name": "python",
   "nbconvert_exporter": "python",
   "pygments_lexer": "ipython3",
   "version": "3.9.7"
  }
 },
 "nbformat": 4,
 "nbformat_minor": 5
}
