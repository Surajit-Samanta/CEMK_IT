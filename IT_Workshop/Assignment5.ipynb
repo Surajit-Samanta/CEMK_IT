{
 "cells": [
  {
   "cell_type": "markdown",
   "id": "10d3302a",
   "metadata": {},
   "source": [
    "##  Assignment on List Array"
   ]
  },
  {
   "cell_type": "markdown",
   "id": "ae4ded5c",
   "metadata": {},
   "source": [
    "### 1. Design a Python script to sort numbers specified using lists. You can use functions and list for your program."
   ]
  },
  {
   "cell_type": "code",
   "execution_count": 3,
   "id": "eada9f16",
   "metadata": {},
   "outputs": [
    {
     "name": "stdout",
     "output_type": "stream",
     "text": [
      "Sorted List: [1, 3, 5, 7, 9]\n"
     ]
    }
   ],
   "source": [
    "def sort_numbers(nums):\n",
    "    return sorted(nums)\n",
    "\n",
    "# Example\n",
    "numbers = [5, 3, 9, 1, 7]\n",
    "print(\"Sorted List:\", sort_numbers(numbers))\n"
   ]
  },
  {
   "cell_type": "markdown",
   "id": "801fb8cb",
   "metadata": {},
   "source": [
    "### 2. Write a Python program to implement a stack and queue using a list data-structure. Use function and list for your program."
   ]
  },
  {
   "cell_type": "code",
   "execution_count": 4,
   "id": "b038c5d4",
   "metadata": {},
   "outputs": [
    {
     "name": "stdout",
     "output_type": "stream",
     "text": [
      "Stack after pushes: [10, 20, 30]\n",
      "Stack after pop: [10, 20]\n",
      "Queue after enqueue: [10, 20, 30]\n",
      "Queue after dequeue: [20, 30]\n"
     ]
    }
   ],
   "source": [
    "# Stack implementation\n",
    "def stack_operations():\n",
    "    stack = []\n",
    "    stack.append(10)\n",
    "    stack.append(20)\n",
    "    stack.append(30)\n",
    "    print(\"Stack after pushes:\", stack)\n",
    "    stack.pop()\n",
    "    print(\"Stack after pop:\", stack)\n",
    "\n",
    "# Queue implementation\n",
    "def queue_operations():\n",
    "    queue = []\n",
    "    queue.append(10)\n",
    "    queue.append(20)\n",
    "    queue.append(30)\n",
    "    print(\"Queue after enqueue:\", queue)\n",
    "    queue.pop(0)\n",
    "    print(\"Queue after dequeue:\", queue)\n",
    "\n",
    "stack_operations()\n",
    "queue_operations()\n"
   ]
  },
  {
   "cell_type": "markdown",
   "id": "6d3fb693",
   "metadata": {},
   "source": [
    "### 3. Write a Python program to convert a binary number to equivalent decimal number. Use function and list for your program"
   ]
  },
  {
   "cell_type": "code",
   "execution_count": 5,
   "id": "d209731d",
   "metadata": {},
   "outputs": [
    {
     "name": "stdout",
     "output_type": "stream",
     "text": [
      "Decimal: 11\n"
     ]
    }
   ],
   "source": [
    "def binary_to_decimal(binary_list):\n",
    "    binary_str = ''.join(str(b) for b in binary_list)\n",
    "    return int(binary_str, 2)\n",
    "\n",
    "# Example\n",
    "print(\"Decimal:\", binary_to_decimal([1, 0, 1, 1]))\n"
   ]
  },
  {
   "cell_type": "markdown",
   "id": "7802c6fa",
   "metadata": {},
   "source": [
    "### 4. Write a Python program to convert a decimal number to equivalen binary number. Use function and list for your program."
   ]
  },
  {
   "cell_type": "code",
   "execution_count": 6,
   "id": "ea47e678",
   "metadata": {},
   "outputs": [
    {
     "name": "stdout",
     "output_type": "stream",
     "text": [
      "Binary: [1, 1, 0, 1]\n"
     ]
    }
   ],
   "source": [
    "def decimal_to_binary(n):\n",
    "    binary = []\n",
    "    while n > 0:\n",
    "        binary.append(n % 2)\n",
    "        n //= 2\n",
    "    binary.reverse()\n",
    "    return binary\n",
    "\n",
    "# Example\n",
    "print(\"Binary:\", decimal_to_binary(13))\n"
   ]
  },
  {
   "cell_type": "markdown",
   "id": "64743905",
   "metadata": {},
   "source": [
    "### 5. Write a python program using a recursive function to implement a binary search problem."
   ]
  },
  {
   "cell_type": "code",
   "execution_count": 7,
   "id": "911893e2",
   "metadata": {},
   "outputs": [
    {
     "name": "stdout",
     "output_type": "stream",
     "text": [
      "Element found at index: 3\n"
     ]
    }
   ],
   "source": [
    "def binary_search(arr, low, high, key):\n",
    "    if high >= low:\n",
    "        mid = (low + high) // 2\n",
    "        if arr[mid] == key:\n",
    "            return mid\n",
    "        elif arr[mid] > key:\n",
    "            return binary_search(arr, low, mid - 1, key)\n",
    "        else:\n",
    "            return binary_search(arr, mid + 1, high, key)\n",
    "    else:\n",
    "        return -1\n",
    "\n",
    "# Example\n",
    "arr = [1, 3, 5, 7, 9]\n",
    "key = 7\n",
    "print(\"Element found at index:\", binary_search(arr, 0, len(arr) - 1, key))\n"
   ]
  },
  {
   "cell_type": "markdown",
   "id": "5b6e5a90",
   "metadata": {},
   "source": [
    "### 6. Write a Python program to perform Jump Search for a given key and report success or failure. Prompt the user to enter the key and a list of numbers."
   ]
  },
  {
   "cell_type": "code",
   "execution_count": 8,
   "id": "e9c5b59b",
   "metadata": {},
   "outputs": [
    {
     "name": "stdout",
     "output_type": "stream",
     "text": [
      "Element found at index: 5\n"
     ]
    }
   ],
   "source": [
    "import math\n",
    "\n",
    "def jump_search(arr, x):\n",
    "    n = len(arr)\n",
    "    step = int(math.sqrt(n))\n",
    "    prev = 0\n",
    "\n",
    "    while prev < n and arr[min(step, n) - 1] < x:\n",
    "        prev = step\n",
    "        step += int(math.sqrt(n))\n",
    "        if prev >= n:\n",
    "            return -1\n",
    "\n",
    "    for i in range(prev, min(step, n)):\n",
    "        if arr[i] == x:\n",
    "            return i\n",
    "    return -1\n",
    "\n",
    "# Example\n",
    "arr = [1, 3, 5, 7, 9, 11, 13]\n",
    "key = 11\n",
    "print(\"Element found at index:\", jump_search(arr, key))\n"
   ]
  },
  {
   "cell_type": "markdown",
   "id": "dfd87477",
   "metadata": {},
   "source": [
    "### 7. Write a Python program to find the index of an array element."
   ]
  },
  {
   "cell_type": "code",
   "execution_count": 9,
   "id": "56099bf1",
   "metadata": {},
   "outputs": [
    {
     "name": "stdout",
     "output_type": "stream",
     "text": [
      "Index: 2\n"
     ]
    }
   ],
   "source": [
    "def find_index(arr, element):\n",
    "    return arr.index(element) if element in arr else -1\n",
    "\n",
    "# Example\n",
    "print(\"Index:\", find_index([10, 20, 30, 40], 30))\n"
   ]
  },
  {
   "cell_type": "markdown",
   "id": "d32858fe",
   "metadata": {},
   "source": [
    "### 8. Write a Python program to find the duplicate values of an array of integer values"
   ]
  },
  {
   "cell_type": "code",
   "execution_count": 10,
   "id": "fa5a550f",
   "metadata": {},
   "outputs": [
    {
     "name": "stdout",
     "output_type": "stream",
     "text": [
      "Duplicates: [2, 3]\n"
     ]
    }
   ],
   "source": [
    "def find_duplicates(arr):\n",
    "    duplicates = []\n",
    "    for i in arr:\n",
    "        if arr.count(i) > 1 and i not in duplicates:\n",
    "            duplicates.append(i)\n",
    "    return duplicates\n",
    "\n",
    "# Example\n",
    "print(\"Duplicates:\", find_duplicates([1, 2, 3, 2, 4, 3, 5]))\n"
   ]
  },
  {
   "cell_type": "markdown",
   "id": "0d60e3e0",
   "metadata": {},
   "source": [
    "### 9. Write a Python program to find the second largest element in an array."
   ]
  },
  {
   "cell_type": "code",
   "execution_count": 11,
   "id": "089cd8d3",
   "metadata": {},
   "outputs": [
    {
     "name": "stdout",
     "output_type": "stream",
     "text": [
      "Second Largest: 45\n"
     ]
    }
   ],
   "source": [
    "def second_largest(arr):\n",
    "    unique = list(set(arr))\n",
    "    unique.sort()\n",
    "    return unique[-2] if len(unique) >= 2 else None\n",
    "\n",
    "# Example\n",
    "print(\"Second Largest:\", second_largest([10, 20, 4, 45, 99]))\n"
   ]
  },
  {
   "cell_type": "markdown",
   "id": "af6e9657",
   "metadata": {},
   "source": [
    "### 10. Write a Python program to count the number of characters (character frequency) in a string.\n",
    " Sample String : google.com\n",
    " Expected Result : {'g': 2, 'o': 3, 'l': 1, 'e': 1, '.': 1, 'c':\n",
    " 1, 'm': 1}\n"
   ]
  },
  {
   "cell_type": "code",
   "execution_count": 12,
   "id": "e1ed6744",
   "metadata": {},
   "outputs": [
    {
     "name": "stdout",
     "output_type": "stream",
     "text": [
      "Character Frequency: {'g': 2, 'o': 3, 'l': 1, 'e': 1, '.': 1, 'c': 1, 'm': 1}\n"
     ]
    }
   ],
   "source": [
    "def char_frequency(s):\n",
    "    freq = {}\n",
    "    for char in s:\n",
    "        freq[char] = freq.get(char, 0) + 1\n",
    "    return freq\n",
    "\n",
    "# Example\n",
    "print(\"Character Frequency:\", char_frequency(\"google.com\"))\n"
   ]
  },
  {
   "cell_type": "markdown",
   "id": "d14662e0",
   "metadata": {},
   "source": [
    "### 11. Write a Python program to add 'ing' at the end of a given string (length should be at least 3). If the given string already ends with 'ing' then add 'ly' instead. If the string length of the given string is less than 3, leave it unchanged.\n",
    " Sample String : 'abc'\n",
    " Expected Result : 'abcing'\n",
    " Sample String : 'string'\n",
    " Expected Result : 'stringly'"
   ]
  },
  {
   "cell_type": "code",
   "execution_count": 13,
   "id": "7467bc03",
   "metadata": {},
   "outputs": [
    {
     "name": "stdout",
     "output_type": "stream",
     "text": [
      "abcing\n",
      "stringly\n"
     ]
    }
   ],
   "source": [
    "def add_ing_or_ly(s):\n",
    "    if len(s) < 3:\n",
    "        return s\n",
    "    elif s.endswith('ing'):\n",
    "        return s + 'ly'\n",
    "    else:\n",
    "        return s + 'ing'\n",
    "\n",
    "# Example\n",
    "print(add_ing_or_ly(\"abc\"))\n",
    "print(add_ing_or_ly(\"string\"))\n"
   ]
  },
  {
   "cell_type": "markdown",
   "id": "acd3ad1e",
   "metadata": {},
   "source": [
    "### 12. Write a Python program that accepts a comma separated sequence of words as input and prints the unique words in sorted form (alphanumerically).\n",
    " Sample Words : red, white, black, red, green, black\n",
    " Expected Result : black, green, red, white,red"
   ]
  },
  {
   "cell_type": "code",
   "execution_count": 14,
   "id": "c77985be",
   "metadata": {},
   "outputs": [
    {
     "name": "stdout",
     "output_type": "stream",
     "text": [
      "Unique Sorted Words: black, green, red, white\n"
     ]
    }
   ],
   "source": [
    "def unique_sorted_words(seq):\n",
    "    words = seq.split(\", \")\n",
    "    unique_words = sorted(set(words))\n",
    "    return \", \".join(unique_words)\n",
    "\n",
    "# Example\n",
    "print(\"Unique Sorted Words:\", unique_sorted_words(\"red, white, black, red, green, black\"))\n"
   ]
  },
  {
   "cell_type": "markdown",
   "id": "60676000",
   "metadata": {},
   "source": [
    "### 13. Write a Python program to compute matrix multiplication."
   ]
  },
  {
   "cell_type": "code",
   "execution_count": 15,
   "id": "26cc89ea",
   "metadata": {},
   "outputs": [
    {
     "name": "stdout",
     "output_type": "stream",
     "text": [
      "Matrix Multiplication Result:\n",
      "[58, 64]\n",
      "[139, 154]\n"
     ]
    }
   ],
   "source": [
    "def matrix_multiply(A, B):\n",
    "    result = [[0 for _ in range(len(B[0]))] for _ in range(len(A))]\n",
    "    for i in range(len(A)):\n",
    "        for j in range(len(B[0])):\n",
    "            for k in range(len(B)):\n",
    "                result[i][j] += A[i][k] * B[k][j]\n",
    "    return result\n",
    "\n",
    "# Example\n",
    "A = [[1, 2, 3],\n",
    "     [4, 5, 6]]\n",
    "B = [[7, 8],\n",
    "     [9, 10],\n",
    "     [11, 12]]\n",
    "print(\"Matrix Multiplication Result:\")\n",
    "for row in matrix_multiply(A, B):\n",
    "    print(row)\n"
   ]
  },
  {
   "cell_type": "markdown",
   "id": "563c2a58",
   "metadata": {},
   "source": [
    "### 14. The celebrity problem is the problem of finding the celebrity among n people. A celebrity is someone who does not know anyone (including themselves) but is known by everyone. Write a Python program to solve the celebrity problem.\n",
    " A B C D\n",
    " A 1 1 1 0\n",
    " B 1 1 1 0\n",
    " C 0 0 1 0   value=2\n",
    " D 0 1 1 1\n"
   ]
  },
  {
   "cell_type": "code",
   "execution_count": 16,
   "id": "f4a5b805",
   "metadata": {},
   "outputs": [
    {
     "name": "stdout",
     "output_type": "stream",
     "text": [
      "Celebrity is person: 2\n"
     ]
    }
   ],
   "source": [
    "def eliminate_non_celebrities(matrix, n):\n",
    "    stack = [i for i in range(n)]\n",
    "    while len(stack) > 1:\n",
    "        a = stack.pop()\n",
    "        b = stack.pop()\n",
    "        if matrix[a][b]:\n",
    "            stack.append(b)\n",
    "        else:\n",
    "            stack.append(a)\n",
    "    return stack[0]\n",
    "\n",
    "def check_if_celebrity(matrix, celeb, n):\n",
    "    for i in range(n):\n",
    "        if i != celeb and (matrix[celeb][i] or not matrix[i][celeb]):\n",
    "            return False\n",
    "    return True\n",
    "\n",
    "def find_celebrity(matrix, n):\n",
    "    celeb = eliminate_non_celebrities(matrix, n)\n",
    "    if check_if_celebrity(matrix, celeb, n):\n",
    "        return celeb\n",
    "    else:\n",
    "        return -1\n",
    "\n",
    "# Example\n",
    "M = [\n",
    "    [1, 1, 1, 0],\n",
    "    [1, 1, 1, 0],\n",
    "    [0, 0, 1, 0],\n",
    "    [0, 1, 1, 1]\n",
    "]\n",
    "print(\"Celebrity is person:\", find_celebrity(M, 4))\n"
   ]
  },
  {
   "cell_type": "code",
   "execution_count": null,
   "id": "6e9dbe8b",
   "metadata": {},
   "outputs": [],
   "source": []
  },
  {
   "cell_type": "code",
   "execution_count": null,
   "id": "164bd700",
   "metadata": {},
   "outputs": [],
   "source": []
  },
  {
   "cell_type": "code",
   "execution_count": null,
   "id": "4f4c7404",
   "metadata": {},
   "outputs": [],
   "source": []
  },
  {
   "cell_type": "code",
   "execution_count": null,
   "id": "ecdd6aa1",
   "metadata": {},
   "outputs": [],
   "source": []
  },
  {
   "cell_type": "code",
   "execution_count": null,
   "id": "14828090",
   "metadata": {},
   "outputs": [],
   "source": []
  },
  {
   "cell_type": "code",
   "execution_count": null,
   "id": "4f36f062",
   "metadata": {},
   "outputs": [],
   "source": []
  }
 ],
 "metadata": {
  "kernelspec": {
   "display_name": "Python 3 (ipykernel)",
   "language": "python",
   "name": "python3"
  },
  "language_info": {
   "codemirror_mode": {
    "name": "ipython",
    "version": 3
   },
   "file_extension": ".py",
   "mimetype": "text/x-python",
   "name": "python",
   "nbconvert_exporter": "python",
   "pygments_lexer": "ipython3",
   "version": "3.9.7"
  }
 },
 "nbformat": 4,
 "nbformat_minor": 5
}
