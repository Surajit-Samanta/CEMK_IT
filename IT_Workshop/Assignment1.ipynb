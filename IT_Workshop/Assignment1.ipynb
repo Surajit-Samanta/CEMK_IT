{
 "cells": [
  {
   "cell_type": "markdown",
   "id": "ba7dba10",
   "metadata": {},
   "source": [
    "\n",
    "# Assignment-01\n",
    "## (Assignment on basic programming)\n"
   ]
  },
  {
   "cell_type": "code",
   "execution_count": null,
   "id": "58ba4be8",
   "metadata": {},
   "outputs": [],
   "source": []
  },
  {
   "cell_type": "markdown",
   "id": "dc71af65",
   "metadata": {},
   "source": [
    "### 1. Write a python program to perform addition, subtraction, multiplication, integer division, floating-point division, modulo division, and exponentiation of two integers taking input from the user at the run time"
   ]
  },
  {
   "cell_type": "code",
   "execution_count": 3,
   "id": "55b5d5f1",
   "metadata": {},
   "outputs": [
    {
     "name": "stdout",
     "output_type": "stream",
     "text": [
      "Enter the first integer: 7\n",
      "Enter the second integer: 2\n",
      "\n",
      "7 + 2 = 9\n",
      "7 - 2 = 5\n",
      "7 * 2 = 14\n",
      "7 // 2 = 3 (Integer Division)\n",
      "7 / 2 = 3.5 (Float Division)\n",
      "7 % 2 = 1 (Modulo)\n",
      "7 ** 2 = 49 (Exponentiation)\n"
     ]
    }
   ],
   "source": [
    "# Taking two integers as input from the user\n",
    "num1 = int(input(\"Enter the first integer: \"))\n",
    "num2 = int(input(\"Enter the second integer: \"))\n",
    "\n",
    "# Performing calculations\n",
    "addition = num1 + num2\n",
    "subtraction = num1 - num2\n",
    "multiplication = num1 * num2\n",
    "integer_division = num1 // num2\n",
    "float_division = num1 / num2\n",
    "modulo = num1 % num2\n",
    "exponentiation = num1 ** num2\n",
    "\n",
    "# Printing the results\n",
    "print(f\"\\n{num1} + {num2} = {addition}\")\n",
    "print(f\"{num1} - {num2} = {subtraction}\")\n",
    "print(f\"{num1} * {num2} = {multiplication}\")\n",
    "print(f\"{num1} // {num2} = {integer_division} (Integer Division)\")\n",
    "print(f\"{num1} / {num2} = {float_division} (Float Division)\")\n",
    "print(f\"{num1} % {num2} = {modulo} (Modulo)\")\n",
    "print(f\"{num1} ** {num2} = {exponentiation} (Exponentiation)\")"
   ]
  },
  {
   "cell_type": "markdown",
   "id": "68298243",
   "metadata": {},
   "source": [
    "### 2. Write a Python program that accepts the user's first and last name separately and prints them in reverse order with a space between them.\n"
   ]
  },
  {
   "cell_type": "code",
   "execution_count": 2,
   "id": "471feac4",
   "metadata": {},
   "outputs": [
    {
     "name": "stdout",
     "output_type": "stream",
     "text": [
      "Enter your first name: sura\n",
      "Enter your last name: samanta\n",
      "Your name in reverse is: samanta sura\n"
     ]
    }
   ],
   "source": [
    "# Taking first and last name as input\n",
    "first_name = input(\"Enter your first name: \")\n",
    "last_name = input(\"Enter your last name: \")\n",
    "\n",
    "# Printing in reverse order\n",
    "print(f\"Your name in reverse is: {last_name} {first_name}\")\n"
   ]
  },
  {
   "cell_type": "markdown",
   "id": "27dd6130",
   "metadata": {},
   "source": [
    "### 3. Program to calculate the area of a triangle: (a) Given the Base and height of the triangle. Take input from the user. (b) Given Three sides of a triangle (Make sure that it forms a triangle). Take input fromthe user using single input( )."
   ]
  },
  {
   "cell_type": "code",
   "execution_count": null,
   "id": "7d4795d1",
   "metadata": {},
   "outputs": [],
   "source": [
    "# Taking base and height as input\n",
    "base = float(input(\"Enter the base of the triangle: \"))\n",
    "height = float(input(\"Enter the height of the triangle: \"))\n",
    "\n",
    "# Calculating the area\n",
    "area = 0.5 * base * height\n",
    "\n",
    "# Printing the result\n",
    "print(f\"The area of the triangle is: {area}\")"
   ]
  },
  {
   "cell_type": "code",
   "execution_count": null,
   "id": "9e9427d1",
   "metadata": {},
   "outputs": [],
   "source": [
    "import math\n",
    "\n",
    "# Taking three sides as a single string input and splitting them\n",
    "try:\n",
    "    a, b, c = map(float, input(\"Enter the three sides of the triangle (separated by space): \").split())\n",
    "\n",
    "    # Check the triangle inequality theorem\n",
    "    if (a + b > c) and (a + c > b) and (b + c > a):\n",
    "        # Calculate the semi-perimeter (s)\n",
    "        s = (a + b + c) / 2\n",
    "        \n",
    "        # Calculate the area using Heron's formula\n",
    "        area = math.sqrt(s * (s - a) * (s - b) * (s - c))\n",
    "        \n",
    "        print(f\"The area of the triangle is: {area:.2f}\")\n",
    "    else:\n",
    "        print(\"Error: The given sides cannot form a triangle.\")\n",
    "\n",
    "except ValueError:\n",
    "    print(\"Invalid input. Please enter three numbers separated by spaces.\")"
   ]
  },
  {
   "cell_type": "markdown",
   "id": "6c04ec3a",
   "metadata": {},
   "source": [
    "### 4. Write a python program to find out the distance between two points in the cartesian coordinate system. [each point (x,y) coordinate should be read with a single input( ) function]\n"
   ]
  },
  {
   "cell_type": "code",
   "execution_count": null,
   "id": "b377cb5b",
   "metadata": {},
   "outputs": [],
   "source": [
    "import math\n",
    "\n",
    "# Reading coordinates for the first point from a single input\n",
    "x1, y1 = map(float, input(\"Enter the coordinates of the first point (x1 y1): \").split())\n",
    "\n",
    "# Reading coordinates for the second point from a single input\n",
    "x2, y2 = map(float, input(\"Enter the coordinates of the second point (x2 y2): \").split())\n",
    "\n",
    "# Calculating the distance using the distance formula\n",
    "distance = math.sqrt((x2 - x1)**2 + (y2 - y1)**2)\n",
    "\n",
    "# Printing the result\n",
    "print(f\"The distance between the two points is: {distance:.2f}\")"
   ]
  },
  {
   "cell_type": "markdown",
   "id": "bed1d856",
   "metadata": {},
   "source": [
    "### 5. Write a Python program that accepts a circle's radius from the user and computes the area.\n"
   ]
  },
  {
   "cell_type": "code",
   "execution_count": null,
   "id": "52767aff",
   "metadata": {},
   "outputs": [],
   "source": [
    "import math\n",
    "\n",
    "# Taking the radius as input\n",
    "radius = float(input(\"Enter the radius of the circle: \"))\n",
    "\n",
    "# Calculating the area\n",
    "area = math.pi * (radius ** 2)\n",
    "\n",
    "# Printing the result\n",
    "print(f\"The area of the circle with radius {radius} is: {area:.2f}\")"
   ]
  },
  {
   "cell_type": "markdown",
   "id": "46bb9594",
   "metadata": {},
   "source": [
    "### 6. Write a Python program to compute the volume of a sphere with a radius taken from the user."
   ]
  },
  {
   "cell_type": "code",
   "execution_count": null,
   "id": "7791e164",
   "metadata": {},
   "outputs": [],
   "source": [
    "import math\n",
    "\n",
    "# Taking the radius as input\n",
    "radius = float(input(\"Enter the radius of the sphere: \"))\n",
    "\n",
    "# Calculating the volume\n",
    "volume = (4/3) * math.pi * (radius ** 3)\n",
    "\n",
    "# Printing the result\n",
    "print(f\"The volume of the sphere with radius {radius} is: {volume:.2f}\")"
   ]
  },
  {
   "cell_type": "markdown",
   "id": "d6320e42",
   "metadata": {},
   "source": [
    "### 7. Write a python program to calculate the height and weight (provided in feet-inch and lbs) of a person in cms and Kgs respectively, [1 feet=12 inch and 1 inch=2.54 cm, 1 lbs=0.45359 kg]"
   ]
  },
  {
   "cell_type": "code",
   "execution_count": null,
   "id": "c1b3e8fb",
   "metadata": {},
   "outputs": [],
   "source": [
    "# Conversion factors\n",
    "INCH_TO_CM = 2.54\n",
    "FEET_TO_INCH = 12\n",
    "LBS_TO_KG = 0.453592\n",
    "\n",
    "# Taking height input\n",
    "feet = int(input(\"Enter your height (feet): \"))\n",
    "inches = int(input(\"Enter your height (inches): \"))\n",
    "\n",
    "# Taking weight input\n",
    "lbs = float(input(\"Enter your weight (lbs): \"))\n",
    "\n",
    "# --- Calculations ---\n",
    "# Height conversion\n",
    "total_inches = (feet * FEET_TO_INCH) + inches\n",
    "height_cm = total_inches * INCH_TO_CM\n",
    "\n",
    "# Weight conversion\n",
    "weight_kg = lbs * LBS_TO_KG\n",
    "\n",
    "# Printing the results\n",
    "print(\"\\n--- Converted Values ---\")\n",
    "print(f\"Your height is: {height_cm:.2f} cm\")\n",
    "print(f\"Your weight is: {weight_kg:.2f} kg\")"
   ]
  },
  {
   "cell_type": "markdown",
   "id": "ce96f730",
   "metadata": {},
   "source": [
    "### 8. Write a python program to find out the equivalent temperature in Fahrenheit where users provide temperature in centigrade.\n"
   ]
  },
  {
   "cell_type": "code",
   "execution_count": null,
   "id": "9ae646b1",
   "metadata": {},
   "outputs": [],
   "source": [
    "# Taking temperature in Celsius as input\n",
    "celsius = float(input(\"Enter the temperature in Celsius: \"))\n",
    "\n",
    "# Converting to Fahrenheit\n",
    "fahrenheit = (celsius * 9/5) + 32\n",
    "\n",
    "# Printing the result\n",
    "print(f\"{celsius}°C is equal to {fahrenheit:.2f}°F\")"
   ]
  },
  {
   "cell_type": "markdown",
   "id": "8dd644e9",
   "metadata": {},
   "source": [
    "### 9. Write a python program that determines the distance to lightning strikes based on the time elapsed between the flash and the sound of thunder. The speed of sound is approximately 343 m/s and the speed of light is 299792458 m/s.\n"
   ]
  },
  {
   "cell_type": "code",
   "execution_count": null,
   "id": "eef49310",
   "metadata": {},
   "outputs": [],
   "source": [
    "# Speed of sound in m/s\n",
    "SPEED_OF_SOUND = 343 \n",
    "\n",
    "# Taking time elapsed as input\n",
    "time_elapsed = float(input(\"Enter the time in seconds between the flash and thunder: \"))\n",
    "\n",
    "# Calculating the distance\n",
    "distance = SPEED_OF_SOUND * time_elapsed\n",
    "\n",
    "# Printing the result\n",
    "print(f\"The lightning strike is approximately {distance:.2f} meters away.\")"
   ]
  },
  {
   "cell_type": "markdown",
   "id": "c47067b8",
   "metadata": {},
   "source": [
    "### 10. A coffee shop sells coffee at Rs. 3000/- a Kg plus the cost of shipping. Each orderships for Rs. 35/- per Kg plus Rs 75/- fixed cost for overhead. Write a Python program that calculates the cost of an order. The input of the program is the amount of coffee to be shipped."
   ]
  },
  {
   "cell_type": "code",
   "execution_count": null,
   "id": "f2dee109",
   "metadata": {},
   "outputs": [],
   "source": [
    "# Constants for pricing\n",
    "COST_PER_KG = 3000  # in Rs.\n",
    "SHIPPING_PER_KG = 35 # in Rs.\n",
    "OVERHEAD_COST = 75   # in Rs.\n",
    "\n",
    "# Taking the amount of coffee as input\n",
    "amount_kg = float(input(\"Enter the amount of coffee to be shipped (in Kg): \"))\n",
    "\n",
    "# Calculating costs\n",
    "coffee_cost = amount_kg * COST_PER_KG\n",
    "shipping_cost = (amount_kg * SHIPPING_PER_KG) + OVERHEAD_COST\n",
    "total_cost = coffee_cost + shipping_cost\n",
    "\n",
    "# Printing the result\n",
    "print(\"\\n--- Order Summary ---\")\n",
    "print(f\"Cost of coffee: Rs. {coffee_cost:.2f}\")\n",
    "print(f\"Shipping cost: Rs. {shipping_cost:.2f}\")\n",
    "print(f\"Total cost of the order: Rs. {total_cost:.2f}\")"
   ]
  },
  {
   "cell_type": "markdown",
   "id": "0883df92",
   "metadata": {},
   "source": [
    "### 11. Write down a program in Python to determine the length of the ladder required toreach a given height when leaning against a house. The height and angle of the ladder are given as input. To compute you may have to convert the angle from degree to radian.\n"
   ]
  },
  {
   "cell_type": "code",
   "execution_count": null,
   "id": "5df78454",
   "metadata": {},
   "outputs": [],
   "source": [
    "import math\n",
    "\n",
    "# Taking height and angle as input\n",
    "height = float(input(\"Enter the height to reach (in meters): \"))\n",
    "angle_degrees = float(input(\"Enter the angle of the ladder (in degrees): \"))\n",
    "\n",
    "# Convert angle from degrees to radians for math.sin()\n",
    "angle_radians = math.radians(angle_degrees)\n",
    "\n",
    "# Calculate the required ladder length\n",
    "ladder_length = height / math.sin(angle_radians)\n",
    "\n",
    "# Printing the result\n",
    "print(f\"The required length of the ladder is: {ladder_length:.2f} meters\")"
   ]
  },
  {
   "cell_type": "markdown",
   "id": "77ff91fe",
   "metadata": {},
   "source": [
    "### 12. Write a Python program to display the current date and time. #Sample Output : # Current date and time : 2020-09-25 14:34:14 [ Hints: from datetime import datetime now = datetime.now() ]"
   ]
  },
  {
   "cell_type": "code",
   "execution_count": null,
   "id": "665ecd39",
   "metadata": {},
   "outputs": [],
   "source": [
    "# Import the datetime class from the datetime module\n",
    "from datetime import datetime\n",
    "\n",
    "# Get the current date and time\n",
    "now = datetime.now()\n",
    "\n",
    "# Format the datetime object into a string\n",
    "formatted_datetime = now.strftime(\"%Y-%m-%d %H:%M:%S\")\n",
    "\n",
    "# Print the formatted string\n",
    "print(f\"Current date and time: {formatted_datetime}\")"
   ]
  },
  {
   "cell_type": "markdown",
   "id": "6611195c",
   "metadata": {},
   "source": [
    "#### To compute square root use import math at the beginning of the program and then compute like this val=math.sqrt(15) To compute the absolute value of an expression use abs(math expression)\n"
   ]
  },
  {
   "cell_type": "markdown",
   "id": "230767f1",
   "metadata": {},
   "source": []
  }
 ],
 "metadata": {
  "kernelspec": {
   "display_name": "Python 3 (ipykernel)",
   "language": "python",
   "name": "python3"
  },
  "language_info": {
   "codemirror_mode": {
    "name": "ipython",
    "version": 3
   },
   "file_extension": ".py",
   "mimetype": "text/x-python",
   "name": "python",
   "nbconvert_exporter": "python",
   "pygments_lexer": "ipython3",
   "version": "3.9.7"
  }
 },
 "nbformat": 4,
 "nbformat_minor": 5
}
