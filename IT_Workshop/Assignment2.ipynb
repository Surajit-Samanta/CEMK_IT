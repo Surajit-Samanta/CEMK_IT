{
 "cells": [
  {
   "cell_type": "markdown",
   "id": "124dc201",
   "metadata": {},
   "source": [
    "# Assignment-02\n",
    "-------------------------------------------------------------------------------------\n",
    "## (Assignment on if-else Conditional Statement)\n"
   ]
  },
  {
   "cell_type": "markdown",
   "id": "a30331bb",
   "metadata": {},
   "source": [
    "### 1. Write a Python program to get a number from the user and print whether it is positive or negative.\n",
    "#### [ Test Data-- Input number: 35, Expected Output : Number is positive]\n"
   ]
  },
  {
   "cell_type": "code",
   "execution_count": 1,
   "id": "9fdc2cda",
   "metadata": {},
   "outputs": [
    {
     "name": "stdout",
     "output_type": "stream",
     "text": [
      "Input number: 35\n",
      "Number is positive\n"
     ]
    }
   ],
   "source": [
    "num = float(input(\"Input number: \"))\n",
    "\n",
    "if num > 0:\n",
    "    print(\"Number is positive\")\n",
    "elif num < 0:\n",
    "    print(\"Number is negative\")\n",
    "else:\n",
    "    print(\"Number is zero\")"
   ]
  },
  {
   "cell_type": "markdown",
   "id": "7fb7fc4d",
   "metadata": {},
   "source": [
    "### 2. Write a Python program for checking whether the given number is an even number or not. \n",
    "#### [Example: Input: 2 Output: 2 is Even number Input: 13 Output: 13 is Odd number]"
   ]
  },
  {
   "cell_type": "code",
   "execution_count": 2,
   "id": "bed7fffb",
   "metadata": {},
   "outputs": [
    {
     "name": "stdout",
     "output_type": "stream",
     "text": [
      "Enter a number: 25\n",
      "25 is Odd number\n"
     ]
    }
   ],
   "source": [
    "num = int(input(\"Enter a number: \"))\n",
    "if num % 2 == 0:\n",
    "    print(f\"{num} is Even number\")\n",
    "else:\n",
    "    print(f\"{num} is Odd number\")"
   ]
  },
  {
   "cell_type": "markdown",
   "id": "253bdebc",
   "metadata": {},
   "source": [
    "### 3. Take values of length and breadth of a rectangle from user and check if it is square or not.\n"
   ]
  },
  {
   "cell_type": "code",
   "execution_count": 3,
   "id": "b6a2f5d0",
   "metadata": {},
   "outputs": [
    {
     "name": "stdout",
     "output_type": "stream",
     "text": [
      "Enter length: 26.5\n",
      "Enter breadth: 42\n",
      "It is a rectangle\n"
     ]
    }
   ],
   "source": [
    "length = float(input(\"Enter length: \"))\n",
    "breadth = float(input(\"Enter breadth: \"))\n",
    "if length == breadth:\n",
    "    print(\"It is a square\")\n",
    "else:\n",
    "    print(\"It is a rectangle\")"
   ]
  },
  {
   "cell_type": "markdown",
   "id": "c58d3144",
   "metadata": {},
   "source": [
    "### 4. Write a python program to print the smallest and largest number from the given three numbers (integers) as input. Use only one input() to read the values. \n",
    "#### [ Example: Input: 2 3 -5 Output: -5 smallest and 3 is largest ]"
   ]
  },
  {
   "cell_type": "code",
   "execution_count": 4,
   "id": "6d4e229a",
   "metadata": {},
   "outputs": [
    {
     "name": "stdout",
     "output_type": "stream",
     "text": [
      "Enter three numbers separated by space: 69 96 48\n",
      "48 is smallest and 96 is largest\n"
     ]
    }
   ],
   "source": [
    "a, b, c = map(int, input(\"Enter three numbers separated by space: \").split())\n",
    "print(f\"{min(a,b,c)} is smallest and {max(a,b,c)} is largest\")"
   ]
  },
  {
   "cell_type": "markdown",
   "id": "97a25e6c",
   "metadata": {},
   "source": [
    "### 5. Write a Python program that keeps a number from the user and generates an integer between 1 and 7 and displays the name of the weekday. \n",
    "#### [ Weeks starts with Monday; Test Data: Input number: 3 Expected Output : Wednesday ]"
   ]
  },
  {
   "cell_type": "code",
   "execution_count": 6,
   "id": "3ed9c34d",
   "metadata": {},
   "outputs": [
    {
     "name": "stdout",
     "output_type": "stream",
     "text": [
      "Input number (1–7): 5\n",
      "Thursday\n"
     ]
    }
   ],
   "source": [
    "num = int(input(\"Input number (1–7): \"))\n",
    "weekdays = [\"Sunday\", \"Monday\", \"Tuesday\", \"Wednesday\", \"Thursday\", \"Friday\", \"Saturday\"]\n",
    "if 1 <= num <= 7:\n",
    "    print(f\"{weekdays[num-1]}\")\n",
    "else:\n",
    "    print(\"Invalid number\")\n"
   ]
  },
  {
   "cell_type": "markdown",
   "id": "6eb30659",
   "metadata": {},
   "source": [
    "### 6. A student will not be allowed to sit in university examination if his/her attendance is less than 75%. Write a Python program to decide whether a student will be allowed to sit for the examination or not after taking “Number of classes held” and “Number of classes attended” from user. Also print % of class the student attended. \n",
    "#### [ hints: Calculate % of attendance from number of class held and attended and then decide allowed for exam or not]\n"
   ]
  },
  {
   "cell_type": "code",
   "execution_count": 7,
   "id": "d2990cb8",
   "metadata": {},
   "outputs": [
    {
     "name": "stdout",
     "output_type": "stream",
     "text": [
      "Number of classes held: 13\n",
      "Number of classes attended: 8\n",
      "Attendance: 61.54%\n",
      "Not allowed to sit for the exam\n"
     ]
    }
   ],
   "source": [
    "held = int(input(\"Number of classes held: \"))\n",
    "attended = int(input(\"Number of classes attended: \"))\n",
    "percentage = (attended / held) * 100\n",
    "print(f\"Attendance: {percentage:.2f}%\")\n",
    "\n",
    "if percentage >= 75:\n",
    "    print(\"Allowed to sit for the exam\")\n",
    "else:\n",
    "    print(\"Not allowed to sit for the exam\")\n"
   ]
  },
  {
   "cell_type": "markdown",
   "id": "62c89a83",
   "metadata": {},
   "source": [
    "### 7. A company decided to give a bonus of 5% to an employee if his/her year of service is more than 5 years. Ask users for their salary and year of service and print the net bonus amount."
   ]
  },
  {
   "cell_type": "code",
   "execution_count": 8,
   "id": "aeba7b64",
   "metadata": {},
   "outputs": [
    {
     "name": "stdout",
     "output_type": "stream",
     "text": [
      "Enter your salary: 35000\n",
      "Enter years of service: 2\n",
      "No bonus\n"
     ]
    }
   ],
   "source": [
    "salary = float(input(\"Enter your salary: \"))\n",
    "service = int(input(\"Enter years of service: \"))\n",
    "\n",
    "if service > 5:\n",
    "    bonus = 0.05 * salary\n",
    "    print(f\"Bonus amount: {bonus}\")\n",
    "else:\n",
    "    print(\"No bonus\")\n"
   ]
  },
  {
   "cell_type": "markdown",
   "id": "9d8bc6a0",
   "metadata": {},
   "source": [
    "### 8. Write A python program to check whether a year is a leap year or not. \n",
    "#### [ Hints: An year is a leap year if (i) it is a multiple of 4, (ii) multiple of 400 and not a multiple of 100. Example: 1900,1767 is not leap year 1600, 1460, 2016 is leap year]"
   ]
  },
  {
   "cell_type": "code",
   "execution_count": 9,
   "id": "0eeecfe4",
   "metadata": {},
   "outputs": [
    {
     "name": "stdout",
     "output_type": "stream",
     "text": [
      "Enter a year: 2003\n",
      "2003 is not a leap year\n"
     ]
    }
   ],
   "source": [
    "year = int(input(\"Enter a year: \"))\n",
    "if (year % 400 == 0) or (year % 4 == 0 and year % 100 != 0):\n",
    "    print(f\"{year} is a leap year\")\n",
    "else:\n",
    "    print(f\"{year} is not a leap year\")\n"
   ]
  },
  {
   "cell_type": "markdown",
   "id": "191ea831",
   "metadata": {},
   "source": [
    "### 9. Write a Python program to find the number of days in a month.\n",
    "#### [ Test Data : Input a month & year: 2 2016 Expected Output : February 2016 has 29 days ]"
   ]
  },
  {
   "cell_type": "code",
   "execution_count": 11,
   "id": "8d14099e",
   "metadata": {},
   "outputs": [
    {
     "name": "stdout",
     "output_type": "stream",
     "text": [
      "Input month and year: 2 2003\n",
      "February 2003 has 28 days\n"
     ]
    }
   ],
   "source": [
    "import calendar\n",
    "month, year = map(int, input(\"Input month and year: \").split())\n",
    "days = calendar.monthrange(year, month)[1]\n",
    "month_name = calendar.month_name[month]\n",
    "print(f\"{month_name} {year} has {days} days\")\n"
   ]
  },
  {
   "cell_type": "markdown",
   "id": "a3658ece",
   "metadata": {},
   "source": [
    "### 10. Ask user to enter age, sex ( M or F ), marital status ( Y or N ) and then using following rules print their place of service. if employee is female, then she will work only in urban areas. if employee is a male and age is in between 20 to 40 then he may work in anywhere if employee is male and age is in between 40 t0 60 then he will work in urban areas only. And any other input of age should print \"ERROR\".\n"
   ]
  },
  {
   "cell_type": "code",
   "execution_count": 12,
   "id": "3898cbd9",
   "metadata": {},
   "outputs": [
    {
     "name": "stdout",
     "output_type": "stream",
     "text": [
      "Enter age: 22\n",
      "Enter sex (M/F): M\n",
      "Marital status (Y/N): N\n",
      "He may work anywhere.\n"
     ]
    }
   ],
   "source": [
    "age = int(input(\"Enter age: \"))\n",
    "sex = input(\"Enter sex (M/F): \").upper()\n",
    "marital_status = input(\"Marital status (Y/N): \").upper()\n",
    "\n",
    "if sex == 'F':\n",
    "    print(\"She will work only in urban areas.\")\n",
    "elif sex == 'M':\n",
    "    if 20 <= age <= 40:\n",
    "        print(\"He may work anywhere.\")\n",
    "    elif 40 < age <= 60:\n",
    "        print(\"He will work in urban areas only.\")\n",
    "    else:\n",
    "        print(\"ERROR: Invalid age range.\")\n",
    "else:\n",
    "    print(\"Invalid input for sex.\")\n"
   ]
  },
  {
   "cell_type": "markdown",
   "id": "23041089",
   "metadata": {},
   "source": [
    "### 11. Design a Python Script to determine the Roots of a quadratic equation (x=-b/+-sqrt(b*2-4ac)/2a). Your program should able to show both the real and imaginary roots \n",
    "#### [ hints: you can use num=complex(a,b) to create a complex number a+b*j . on requirement The real part can be accessed using the function x=num.real and imaginary part can be represented by y=num.imag Roots of a quadratic equation a*x^2+b*x+c, can be found using the formula x= (-b+-sqrt(b**2-4*a*c))/2*a ]\n"
   ]
  },
  {
   "cell_type": "code",
   "execution_count": 13,
   "id": "0c477e0b",
   "metadata": {},
   "outputs": [
    {
     "name": "stdout",
     "output_type": "stream",
     "text": [
      "Enter a: 5.2\n",
      "Enter b: 6.1\n",
      "Enter c: 4.9\n",
      "The roots are (-0.5865384615384615+0.7734858275649187j) and (-0.5865384615384615-0.7734858275649187j)\n"
     ]
    }
   ],
   "source": [
    "import cmath\n",
    "\n",
    "a = float(input(\"Enter a: \"))\n",
    "b = float(input(\"Enter b: \"))\n",
    "c = float(input(\"Enter c: \"))\n",
    "\n",
    "d = (b**2) - (4*a*c)\n",
    "\n",
    "root1 = (-b + cmath.sqrt(d)) / (2*a)\n",
    "root2 = (-b - cmath.sqrt(d)) / (2*a)\n",
    "\n",
    "print(f\"The roots are {root1} and {root2}\")\n"
   ]
  },
  {
   "cell_type": "markdown",
   "id": "6596815d",
   "metadata": {},
   "source": [
    "### 12. Write a Python program to check whether a given integer (1 to 9999) is palindrome or not.\n",
    "#### [ A palindromic number (also known as a numeral palindrome or a numeric palindrome) is a number (such as 16461) that remains the same when its digits are reversed. Ex: 0, 1, 2, 3, 4, 5, 6, 7, 8, 9, 11, 22, 33, 44, 55, 66, 77, 88, 99, 101, 111, 121, 131, 141, 151,... etc. [Example: Input: 121 Output: 121 is Palindrome number Input: 17 Output: 17 is not a Palindrome number]"
   ]
  },
  {
   "cell_type": "code",
   "execution_count": 14,
   "id": "4961fcee",
   "metadata": {},
   "outputs": [
    {
     "name": "stdout",
     "output_type": "stream",
     "text": [
      "Enter a number (1–9999): 121\n",
      "121 is a Palindrome number\n"
     ]
    }
   ],
   "source": [
    "num = int(input(\"Enter a number (1–9999): \"))\n",
    "if str(num) == str(num)[::-1]:\n",
    "    print(f\"{num} is a Palindrome number\")\n",
    "else:\n",
    "    print(f\"{num} is not a Palindrome number\")\n"
   ]
  },
  {
   "cell_type": "markdown",
   "id": "6637828a",
   "metadata": {},
   "source": [
    "### 13. Write a Python program to compute whether an integer number [upto 4 digit] is an Armstrong number or not.\n",
    "#### [ A positive integer is called an Armstrong number (of order n) if abcd... = a^n + b^n + c^n + d^n + ... In the case of an Armstrong number of 3 digits, the sum of cubes of each digit is equal to the number itself. For example, 153 is an Armstrong number because 153 = 1*1*1 + 5*5*5 + 3*3*3 ] In the case of an Armstrong number of 4 digits, the sum of power 4 of each digit is equal to the number itself. For example, 1634 is an Armstrong number because 1634=1*1*1*1+6*6*6*6+3*3*3*3+4*4*4*4]"
   ]
  },
  {
   "cell_type": "code",
   "execution_count": 15,
   "id": "e73b2a07",
   "metadata": {},
   "outputs": [
    {
     "name": "stdout",
     "output_type": "stream",
     "text": [
      "Enter a number (up to 4 digits): 696\n",
      "696 is not an Armstrong number\n"
     ]
    }
   ],
   "source": [
    "num = int(input(\"Enter a number (up to 4 digits): \"))\n",
    "digits = str(num)\n",
    "power = len(digits)\n",
    "sum_val = sum(int(d)**power for d in digits)\n",
    "\n",
    "if num == sum_val:\n",
    "    print(f\"{num} is an Armstrong number\")\n",
    "else:\n",
    "    print(f\"{num} is not an Armstrong number\")\n"
   ]
  },
  {
   "cell_type": "markdown",
   "id": "a1dbaf83",
   "metadata": {},
   "source": [
    "### 14. Write a python script to calculate the grade of a student appearing in 6 subjects in the current semester. Grade may be calculated based on the average of the subjects as follows \n",
    "-----------------------------------------------------------------------------------------------------\n",
    "#### Average  |     90- 100       |   80-89        |    70-79      |          60-69           |    Below 60 \n",
    "-----------------------------------------------------------------------------------------------------\n",
    "#### Grade      | Outstanding  |  Excellent   |   Average  |   Below average  |     Fail\n",
    "----------------------------------------------------------------------------------------------------"
   ]
  },
  {
   "cell_type": "code",
   "execution_count": 16,
   "id": "6ab5d1a1",
   "metadata": {},
   "outputs": [
    {
     "name": "stdout",
     "output_type": "stream",
     "text": [
      "Enter marks for subject 1: 1\n",
      "Enter marks for subject 2: 2\n",
      "Enter marks for subject 3: 3\n",
      "Enter marks for subject 4: 4\n",
      "Enter marks for subject 5: 5\n",
      "Enter marks for subject 6: 6\n",
      "Average = 3.5\n",
      "Grade: Fail\n"
     ]
    }
   ],
   "source": [
    "marks = [float(input(f\"Enter marks for subject {i+1}: \")) for i in range(6)]\n",
    "avg = sum(marks) / 6\n",
    "print(f\"Average = {avg}\")\n",
    "\n",
    "if 90 <= avg <= 100:\n",
    "    print(\"Grade: Outstanding\")\n",
    "elif 80 <= avg < 90:\n",
    "    print(\"Grade: Excellent\")\n",
    "elif 70 <= avg < 80:\n",
    "    print(\"Grade: Average\")\n",
    "elif 60 <= avg < 70:\n",
    "    print(\"Grade: Below Average\")\n",
    "else:\n",
    "    print(\"Grade: Fail\")\n"
   ]
  },
  {
   "cell_type": "markdown",
   "id": "184a314b",
   "metadata": {},
   "source": [
    "### 15. A supermarket announces a special discount as given in the table 1 as a part of their promotion. But to avoid bulk purchase they restricted the maximum allowed quantity on purchase for each of the items [Table 2]. If quantity purchase exceeds the Maximum limit then it will reduce to the limiting value. Calculate the Gross amount, Discount amount and Net Payable to the user.\n",
    "\n",
    "### Table- 1\n",
    "-----------------------------------------------------------------------------------------------------\n",
    "#### Total amount Upto 1499 1500-1999 2000-2499 2500-2999 >3000\n",
    "#### Discount % 0 5 10 12 15\n",
    "-----------------------------------------------------------------------------------------------------\n",
    "### Table-2\n",
    "-----------------------------------------------------------------------------------------------------\n",
    "#### Item Name Item1 Item2 Item3 Item4 Item5\n",
    "#### Unit Price 149 249 399 299 199\n",
    "#### Max quantity allowed 5 3 3 5 4\n",
    "-----------------------------------------------------------------------------------------------------"
   ]
  },
  {
   "cell_type": "code",
   "execution_count": 17,
   "id": "b3ad3919",
   "metadata": {},
   "outputs": [
    {
     "name": "stdout",
     "output_type": "stream",
     "text": [
      "Enter quantity for Item1: 30\n",
      "Enter quantity for Item2: 26\n",
      "Enter quantity for Item3: 34\n",
      "Enter quantity for Item4: 56\n",
      "Enter quantity for Item5: 2\n",
      "Gross Amount: ₹4582\n",
      "Discount (15%): ₹687.3\n",
      "Net Payable: ₹3894.7\n"
     ]
    }
   ],
   "source": [
    "items = {\"Item1\": [149, 5], \"Item2\": [249, 3], \"Item3\": [399, 3], \"Item4\": [299, 5], \"Item5\": [199, 4]}\n",
    "\n",
    "total = 0\n",
    "for item, (price, limit) in items.items():\n",
    "    qty = int(input(f\"Enter quantity for {item}: \"))\n",
    "    if qty > limit:\n",
    "        qty = limit\n",
    "    total += price * qty\n",
    "\n",
    "# Determine discount %\n",
    "if total <= 1499:\n",
    "    discount = 0\n",
    "elif total <= 1999:\n",
    "    discount = 5\n",
    "elif total <= 2499:\n",
    "    discount = 10\n",
    "elif total <= 2999:\n",
    "    discount = 12\n",
    "else:\n",
    "    discount = 15\n",
    "\n",
    "discount_amount = (discount / 100) * total\n",
    "net_payable = total - discount_amount\n",
    "\n",
    "print(f\"Gross Amount: ₹{total}\")\n",
    "print(f\"Discount ({discount}%): ₹{discount_amount}\")\n",
    "print(f\"Net Payable: ₹{net_payable}\")\n"
   ]
  },
  {
   "cell_type": "code",
   "execution_count": null,
   "id": "28b0f83d",
   "metadata": {},
   "outputs": [],
   "source": []
  }
 ],
 "metadata": {
  "kernelspec": {
   "display_name": "Python 3 (ipykernel)",
   "language": "python",
   "name": "python3"
  },
  "language_info": {
   "codemirror_mode": {
    "name": "ipython",
    "version": 3
   },
   "file_extension": ".py",
   "mimetype": "text/x-python",
   "name": "python",
   "nbconvert_exporter": "python",
   "pygments_lexer": "ipython3",
   "version": "3.9.7"
  }
 },
 "nbformat": 4,
 "nbformat_minor": 5
}
