{
 "cells": [
  {
   "cell_type": "markdown",
   "id": "dce21798",
   "metadata": {},
   "source": [
    "#  Assignment-04\n",
    "## (Assignment on Function)"
   ]
  },
  {
   "cell_type": "markdown",
   "id": "f1879a34",
   "metadata": {},
   "source": [
    "###   1. Write a python function calculation( ) such that it can accept two variables and calculate the addition and subtraction multiplication and floating point division of it. And also it must return all result using  a single return call"
   ]
  },
  {
   "cell_type": "code",
   "execution_count": 1,
   "id": "9b35316e",
   "metadata": {},
   "outputs": [
    {
     "name": "stdout",
     "output_type": "stream",
     "text": [
      "Addition: 15 Subtraction: 5 Multiplication: 50 Division: 2.0\n"
     ]
    }
   ],
   "source": [
    "def calculation(a, b):\n",
    "    add = a + b\n",
    "    sub = a - b\n",
    "    mul = a * b\n",
    "    div = a / b if b != 0 else None\n",
    "    return add, sub, mul, div\n",
    "\n",
    "# Example:\n",
    "res = calculation(10, 5)\n",
    "print(\"Addition:\", res[0], \"Subtraction:\", res[1], \"Multiplication:\", res[2], \"Division:\", res[3])\n"
   ]
  },
  {
   "cell_type": "markdown",
   "id": "4fb46a81",
   "metadata": {},
   "source": [
    "###  2. Write a function func1( ) in python such that it can accept a variable number of floating point/ integer numbers and compute the sum of these numbers and print the sum in themain program."
   ]
  },
  {
   "cell_type": "code",
   "execution_count": 2,
   "id": "3538bcec",
   "metadata": {},
   "outputs": [
    {
     "name": "stdout",
     "output_type": "stream",
     "text": [
      "Sum = 10.5\n"
     ]
    }
   ],
   "source": [
    "def func1(*nums):\n",
    "    total = sum(nums)\n",
    "    return total\n",
    "\n",
    "# Example:\n",
    "print(\"Sum =\", func1(1, 2, 3.5, 4))\n"
   ]
  },
  {
   "cell_type": "markdown",
   "id": "4dc0cea3",
   "metadata": {},
   "source": [
    "###  3. Create a python function showEmployee() in such a way that it should accept employee name, and it’s basic salary and display both, name and gross salary and if the salary is missing in function, it takes default basic salary as 20000. [ Gross salary =basic + DA (60% of basic) +HRA (12% of Basic)]"
   ]
  },
  {
   "cell_type": "code",
   "execution_count": 3,
   "id": "98ffbf35",
   "metadata": {},
   "outputs": [
    {
     "name": "stdout",
     "output_type": "stream",
     "text": [
      "Employee Name: Surajit\n",
      "Gross Salary: 51600.0\n",
      "Employee Name: Riya\n",
      "Gross Salary: 34400.0\n"
     ]
    }
   ],
   "source": [
    "def showEmployee(name, basic=20000):\n",
    "    da = 0.6 * basic\n",
    "    hra = 0.12 * basic\n",
    "    gross = basic + da + hra\n",
    "    print(f\"Employee Name: {name}\")\n",
    "    print(f\"Gross Salary: {gross}\")\n",
    "\n",
    "# Example:\n",
    "showEmployee(\"Surajit\", 30000)\n",
    "showEmployee(\"Riya\")\n"
   ]
  },
  {
   "cell_type": "markdown",
   "id": "519609bd",
   "metadata": {},
   "source": [
    "###  4. Write a recursive function in python to calculate the sum of numbers from 0 to n"
   ]
  },
  {
   "cell_type": "code",
   "execution_count": 4,
   "id": "2817db1a",
   "metadata": {},
   "outputs": [
    {
     "name": "stdout",
     "output_type": "stream",
     "text": [
      "Sum from 0 to n: 55\n"
     ]
    }
   ],
   "source": [
    "def rec_sum(n):\n",
    "    if n == 0:\n",
    "        return 0\n",
    "    else:\n",
    "        return n + rec_sum(n - 1)\n",
    "\n",
    "# Example:\n",
    "print(\"Sum from 0 to n:\", rec_sum(10))\n"
   ]
  },
  {
   "cell_type": "markdown",
   "id": "2380ac24",
   "metadata": {},
   "source": [
    "###  5. Write a python function to find out maximum and minimum from the variable length of integer arguments."
   ]
  },
  {
   "cell_type": "code",
   "execution_count": 5,
   "id": "0450c132",
   "metadata": {},
   "outputs": [
    {
     "name": "stdout",
     "output_type": "stream",
     "text": [
      "Max and Min: (10, 1)\n"
     ]
    }
   ],
   "source": [
    "def find_max_min(*nums):\n",
    "    return max(nums), min(nums)\n",
    "\n",
    "# Example:\n",
    "print(\"Max and Min:\", find_max_min(2, 8, 4, 10, 1))\n"
   ]
  },
  {
   "cell_type": "markdown",
   "id": "04f85834",
   "metadata": {},
   "source": [
    "###  6. Write a python function to find out the factorial of a given number using an iterative and recursive approach."
   ]
  },
  {
   "cell_type": "code",
   "execution_count": 6,
   "id": "eb074b0f",
   "metadata": {},
   "outputs": [
    {
     "name": "stdout",
     "output_type": "stream",
     "text": [
      "Iterative Factorial: 120\n",
      "Recursive Factorial: 120\n"
     ]
    }
   ],
   "source": [
    "# Iterative\n",
    "def fact_iter(n):\n",
    "    fact = 1\n",
    "    for i in range(1, n + 1):\n",
    "        fact *= i\n",
    "    return fact\n",
    "\n",
    "# Recursive\n",
    "def fact_rec(n):\n",
    "    if n == 0 or n == 1:\n",
    "        return 1\n",
    "    else:\n",
    "        return n * fact_rec(n - 1)\n",
    "\n",
    "# Example:\n",
    "print(\"Iterative Factorial:\", fact_iter(5))\n",
    "print(\"Recursive Factorial:\", fact_rec(5))\n"
   ]
  },
  {
   "cell_type": "markdown",
   "id": "eb078f89",
   "metadata": {},
   "source": [
    "###  7. Write a python function to list out fibonacci numbers upto n term"
   ]
  },
  {
   "cell_type": "code",
   "execution_count": 7,
   "id": "a601f650",
   "metadata": {},
   "outputs": [
    {
     "name": "stdout",
     "output_type": "stream",
     "text": [
      "Fibonacci Sequence: [0, 1, 1, 2, 3, 5, 8, 13, 21, 34]\n"
     ]
    }
   ],
   "source": [
    "def fibonacci(n):\n",
    "    fib_seq = [0, 1]\n",
    "    while len(fib_seq) < n:\n",
    "        fib_seq.append(fib_seq[-1] + fib_seq[-2])\n",
    "    return fib_seq[:n]\n",
    "\n",
    "# Example:\n",
    "print(\"Fibonacci Sequence:\", fibonacci(10))\n"
   ]
  },
  {
   "cell_type": "markdown",
   "id": "cf05fca2",
   "metadata": {},
   "source": [
    "###  8. Write a Python function to check whether a number is perfect or not. [Hints: Perfect number, a positive integer that is equal to the sum of its proper divisors. The smallest perfect number is 6, which is the sum of 1, 2, and 3. Other perfect numbers are 28, 496, and 8,128.]"
   ]
  },
  {
   "cell_type": "code",
   "execution_count": 8,
   "id": "e5190ece",
   "metadata": {},
   "outputs": [
    {
     "name": "stdout",
     "output_type": "stream",
     "text": [
      "Is Perfect: True\n"
     ]
    }
   ],
   "source": [
    "def is_perfect(num):\n",
    "    if num < 2:\n",
    "        return False\n",
    "    divisors = [i for i in range(1, num) if num % i == 0]\n",
    "    return sum(divisors) == num\n",
    "\n",
    "# Example:\n",
    "print(\"Is Perfect:\", is_perfect(28))\n"
   ]
  },
  {
   "cell_type": "markdown",
   "id": "a4d2c1bd",
   "metadata": {},
   "source": [
    "### 9. Write a Python function to check whether a given string is palindrome or not. [Hints: A palindrome is a word, number, phrase, or other sequence of characters which reads the same backward as forward, such as madam or racecar.]"
   ]
  },
  {
   "cell_type": "code",
   "execution_count": 9,
   "id": "d93ee5da",
   "metadata": {},
   "outputs": [
    {
     "name": "stdout",
     "output_type": "stream",
     "text": [
      "Is Palindrome: True\n"
     ]
    }
   ],
   "source": [
    "def is_palindrome(s):\n",
    "    s = s.replace(\" \", \"\").lower()\n",
    "    return s == s[::-1]\n",
    "\n",
    "# Example:\n",
    "print(\"Is Palindrome:\", is_palindrome(\"Madam\"))\n"
   ]
  },
  {
   "cell_type": "markdown",
   "id": "9d3ee604",
   "metadata": {},
   "source": [
    "###  10. Write a Python function to check whether a given string or phrase pangram or not. [Hints: A pangram is a sentence or expression that uses all the letters of the alphabet. Example: The best known pangram in English is \"The quick brown fox jumps over the lazy dog\"]"
   ]
  },
  {
   "cell_type": "code",
   "execution_count": 10,
   "id": "01cb94e4",
   "metadata": {},
   "outputs": [
    {
     "name": "stdout",
     "output_type": "stream",
     "text": [
      "Is Pangram: True\n"
     ]
    }
   ],
   "source": [
    "import string\n",
    "\n",
    "def is_pangram(s):\n",
    "    alphabets = set(string.ascii_lowercase)\n",
    "    return alphabets <= set(s.lower())\n",
    "\n",
    "# Example:\n",
    "print(\"Is Pangram:\", is_pangram(\"The quick brown fox jumps over the lazy dog\"))\n"
   ]
  },
  {
   "cell_type": "markdown",
   "id": "ca772553",
   "metadata": {},
   "source": [
    "###  11. Write a Python function to print n rows of the pascal triangle"
   ]
  },
  {
   "cell_type": "code",
   "execution_count": 11,
   "id": "1ff52e7e",
   "metadata": {},
   "outputs": [
    {
     "name": "stdout",
     "output_type": "stream",
     "text": [
      "1 \n",
      "1 1 \n",
      "1 2 1 \n",
      "1 3 3 1 \n",
      "1 4 6 4 1 \n"
     ]
    }
   ],
   "source": [
    "def pascal_triangle(n):\n",
    "    for i in range(n):\n",
    "        num = 1\n",
    "        for j in range(i + 1):\n",
    "            print(num, end=\" \")\n",
    "            num = num * (i - j) // (j + 1)\n",
    "        print()\n",
    "\n",
    "# Example:\n",
    "pascal_triangle(5)\n"
   ]
  }
 ],
 "metadata": {
  "kernelspec": {
   "display_name": "Python 3 (ipykernel)",
   "language": "python",
   "name": "python3"
  },
  "language_info": {
   "codemirror_mode": {
    "name": "ipython",
    "version": 3
   },
   "file_extension": ".py",
   "mimetype": "text/x-python",
   "name": "python",
   "nbconvert_exporter": "python",
   "pygments_lexer": "ipython3",
   "version": "3.9.7"
  }
 },
 "nbformat": 4,
 "nbformat_minor": 5
}
