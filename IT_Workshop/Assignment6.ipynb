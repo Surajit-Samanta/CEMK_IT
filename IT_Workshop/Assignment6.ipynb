{
 "cells": [
  {
   "cell_type": "markdown",
   "id": "4843da39",
   "metadata": {},
   "source": [
    "##  Assignment-06\n",
    " ### (Assignment on String)"
   ]
  },
  {
   "cell_type": "markdown",
   "id": "23850048",
   "metadata": {},
   "source": [
    "### 1. Write a Python program to find out the largest and smallest length word in the string provided by the user. Print their length also."
   ]
  },
  {
   "cell_type": "code",
   "execution_count": 1,
   "id": "ac6d07dc",
   "metadata": {},
   "outputs": [
    {
     "name": "stdout",
     "output_type": "stream",
     "text": [
      "Largest word: programming (Length: 11)\n",
      "Smallest word: is (Length: 2)\n"
     ]
    }
   ],
   "source": [
    "def find_largest_smallest(sentence):\n",
    "    words = sentence.split()\n",
    "    largest = max(words, key=len)\n",
    "    smallest = min(words, key=len)\n",
    "    print(f\"Largest word: {largest} (Length: {len(largest)})\")\n",
    "    print(f\"Smallest word: {smallest} (Length: {len(smallest)})\")\n",
    "\n",
    "# Example\n",
    "find_largest_smallest(\"Python is an amazing programming language\")\n"
   ]
  },
  {
   "cell_type": "markdown",
   "id": "aeb96138",
   "metadata": {},
   "source": [
    "### 2. Write a Python program that will take input a line/paragraph and replace the occurrence of “a” and “an” by the word “the”."
   ]
  },
  {
   "cell_type": "code",
   "execution_count": 2,
   "id": "6be3442b",
   "metadata": {},
   "outputs": [
    {
     "name": "stdout",
     "output_type": "stream",
     "text": [
      "This is the example of the simple sentence\n"
     ]
    }
   ],
   "source": [
    "def replace_a_an(text):\n",
    "    words = text.split()\n",
    "    new_words = ['the' if w.lower() in ['a', 'an'] else w for w in words]\n",
    "    return \" \".join(new_words)\n",
    "\n",
    "# Example\n",
    "print(replace_a_an(\"This is an example of a simple sentence\"))\n"
   ]
  },
  {
   "cell_type": "markdown",
   "id": "bdb589e0",
   "metadata": {},
   "source": [
    "### 3. Write a Python program to check if the two strings entered by the user are anagrams or not. Hints: Two words are said to be anagrams if the letters of one word can be rearranged to form the other word. For example, “AbcD” and “bADc” are anagrams of each other. To solve this store every character of the strings in two list and then compare the list"
   ]
  },
  {
   "cell_type": "code",
   "execution_count": 3,
   "id": "b343db09",
   "metadata": {},
   "outputs": [
    {
     "name": "stdout",
     "output_type": "stream",
     "text": [
      "True\n"
     ]
    }
   ],
   "source": [
    "def is_anagram(str1, str2):\n",
    "    return sorted(str1.lower()) == sorted(str2.lower())\n",
    "\n",
    "# Example\n",
    "print(is_anagram(\"AbcD\", \"bADc\"))\n"
   ]
  },
  {
   "cell_type": "markdown",
   "id": "831624cd",
   "metadata": {},
   "source": [
    "### 4. Write a Python program to count the number of characters (character frequency) in a string. Sample String : google.com \n",
    "Expected Result :\n",
    "g occurs: 2\n",
    "o occurs: 3\n",
    " l occurs: 1\n",
    " l occurs: 1\n",
    " . occurs: 1\n",
    " c occurs: 1\n",
    " m occurs: 1"
   ]
  },
  {
   "cell_type": "code",
   "execution_count": 4,
   "id": "b1a55736",
   "metadata": {},
   "outputs": [
    {
     "name": "stdout",
     "output_type": "stream",
     "text": [
      "g occurs: 2\n",
      "o occurs: 3\n",
      "l occurs: 1\n",
      "e occurs: 1\n",
      ". occurs: 1\n",
      "c occurs: 1\n",
      "m occurs: 1\n"
     ]
    }
   ],
   "source": [
    "def char_frequency(s):\n",
    "    freq = {}\n",
    "    for ch in s:\n",
    "        freq[ch] = freq.get(ch, 0) + 1\n",
    "    for k, v in freq.items():\n",
    "        print(f\"{k} occurs: {v}\")\n",
    "\n",
    "# Example\n",
    "char_frequency(\"google.com\")\n"
   ]
  },
  {
   "cell_type": "markdown",
   "id": "90517156",
   "metadata": {},
   "source": [
    " ### 5. Write a Python program to get a string made of the first 2 and the last 2 chars from a given string. If the string length is less than 2, return instead of the empty string.\n",
    " Sample Input: Programming Sample Output: Prng\n",
    " Sample input: A\n",
    " Sample output: [Nothing]\n"
   ]
  },
  {
   "cell_type": "code",
   "execution_count": 5,
   "id": "d189a319",
   "metadata": {},
   "outputs": [
    {
     "name": "stdout",
     "output_type": "stream",
     "text": [
      "Prng\n",
      "\n"
     ]
    }
   ],
   "source": [
    "def first_last_two(s):\n",
    "    if len(s) < 2:\n",
    "        return ''\n",
    "    return s[:2] + s[-2:]\n",
    "\n",
    "# Example\n",
    "print(first_last_two(\"Programming\"))\n",
    "print(first_last_two(\"A\"))\n"
   ]
  },
  {
   "cell_type": "markdown",
   "id": "be5680da",
   "metadata": {},
   "source": [
    "### 6. Assuming that we have some email addresses in the \"username@companyname.com\" format, write a Python program to print the company name of a given email address. Both user names and company names are composed of letters only.\n",
    " Sample Input: john@google.com\n",
    " Output: User name: john\n",
    " Company name: google"
   ]
  },
  {
   "cell_type": "code",
   "execution_count": 6,
   "id": "f0aa7a04",
   "metadata": {},
   "outputs": [
    {
     "name": "stdout",
     "output_type": "stream",
     "text": [
      "User name: john\n",
      "Company name: google\n"
     ]
    }
   ],
   "source": [
    "def extract_email_details(email):\n",
    "    username, domain = email.split('@')\n",
    "    company = domain.split('.')[0]\n",
    "    print(\"User name:\", username)\n",
    "    print(\"Company name:\", company)\n",
    "\n",
    "# Example\n",
    "extract_email_details(\"john@google.com\")\n"
   ]
  },
  {
   "cell_type": "markdown",
   "id": "6b86e048",
   "metadata": {},
   "source": [
    "### 7. Write a Python program to test whether two given strings are nearly equal or not. Two strings A and B are nearly equal when A can be generated by a single mutation on B."
   ]
  },
  {
   "cell_type": "code",
   "execution_count": 7,
   "id": "22fab04e",
   "metadata": {},
   "outputs": [
    {
     "name": "stdout",
     "output_type": "stream",
     "text": [
      "True\n"
     ]
    }
   ],
   "source": [
    "def nearly_equal(a, b):\n",
    "    if len(a) != len(b):\n",
    "        return False\n",
    "    count = 0\n",
    "    for i in range(len(a)):\n",
    "        if a[i] != b[i]:\n",
    "            count += 1\n",
    "        if count > 1:\n",
    "            return False\n",
    "    return count == 1\n",
    "\n",
    "# Example\n",
    "print(nearly_equal(\"test\", \"tent\"))\n"
   ]
  },
  {
   "cell_type": "markdown",
   "id": "037e195f",
   "metadata": {},
   "source": [
    "### 8. Write a Python program to add 'ing' at the end of a given string (length should be at least 3). If the given string already ends with 'ing' then add 'ly' instead. If the string length of the given string is less than 3, leave it unchanged.\n",
    " Sample String : 'abc'\n",
    " Sample String : 'string'\n",
    " Expected Result : 'abcing'\n",
    " Expected Result : 'stringly'"
   ]
  },
  {
   "cell_type": "code",
   "execution_count": 8,
   "id": "38c0f448",
   "metadata": {},
   "outputs": [
    {
     "name": "stdout",
     "output_type": "stream",
     "text": [
      "abcing\n",
      "stringly\n"
     ]
    }
   ],
   "source": [
    "def add_ing_ly(s):\n",
    "    if len(s) < 3:\n",
    "        return s\n",
    "    elif s.endswith('ing'):\n",
    "        return s + 'ly'\n",
    "    else:\n",
    "        return s + 'ing'\n",
    "\n",
    "# Example\n",
    "print(add_ing_ly(\"abc\"))\n",
    "print(add_ing_ly(\"string\"))\n"
   ]
  },
  {
   "cell_type": "markdown",
   "id": "f36e7bd8",
   "metadata": {},
   "source": [
    "### 9. Write a Python program to remove the nth index character from a nonempty string."
   ]
  },
  {
   "cell_type": "code",
   "execution_count": 9,
   "id": "4b1daea9",
   "metadata": {},
   "outputs": [
    {
     "name": "stdout",
     "output_type": "stream",
     "text": [
      "pyhon\n"
     ]
    }
   ],
   "source": [
    "def remove_char(s, n):\n",
    "    return s[:n] + s[n+1:]\n",
    "\n",
    "# Example\n",
    "print(remove_char(\"python\", 2))\n"
   ]
  },
  {
   "cell_type": "markdown",
   "id": "7c4d3018",
   "metadata": {},
   "source": [
    "### 10. Given an input string with the combination of the lower and upper case characters, write a Python program to arrange characters in such a way that all lowercase letters should come first followed by all uppercase characters.\n",
    " Sample Input: PyNaTive\n",
    " Expected Output: yaivePNT"
   ]
  },
  {
   "cell_type": "code",
   "execution_count": 10,
   "id": "eeadde30",
   "metadata": {},
   "outputs": [
    {
     "name": "stdout",
     "output_type": "stream",
     "text": [
      "yaivePNT\n"
     ]
    }
   ],
   "source": [
    "def rearrange_case(s):\n",
    "    lower = ''.join([c for c in s if c.islower()])\n",
    "    upper = ''.join([c for c in s if c.isupper()])\n",
    "    return lower + upper\n",
    "\n",
    "# Example\n",
    "print(rearrange_case(\"PyNaTive\"))\n"
   ]
  },
  {
   "cell_type": "markdown",
   "id": "1a95cfc4",
   "metadata": {},
   "source": [
    "### 11.Write a Python program to make a new string with all the consonants deleted from the string"
   ]
  },
  {
   "cell_type": "code",
   "execution_count": 11,
   "id": "bb2d0002",
   "metadata": {},
   "outputs": [
    {
     "name": "stdout",
     "output_type": "stream",
     "text": [
      "eoo\n"
     ]
    }
   ],
   "source": [
    "def remove_consonants(s):\n",
    "    vowels = \"aeiouAEIOU\"\n",
    "    result = ''.join([ch for ch in s if ch in vowels])\n",
    "    return result\n",
    "\n",
    "# Example\n",
    "print(remove_consonants(\"Hello World\"))\n"
   ]
  }
 ],
 "metadata": {
  "kernelspec": {
   "display_name": "Python 3 (ipykernel)",
   "language": "python",
   "name": "python3"
  },
  "language_info": {
   "codemirror_mode": {
    "name": "ipython",
    "version": 3
   },
   "file_extension": ".py",
   "mimetype": "text/x-python",
   "name": "python",
   "nbconvert_exporter": "python",
   "pygments_lexer": "ipython3",
   "version": "3.9.7"
  }
 },
 "nbformat": 4,
 "nbformat_minor": 5
}
